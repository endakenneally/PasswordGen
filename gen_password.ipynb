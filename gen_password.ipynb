import random

def gen_password():
    ascii_letters = ["a","b","c","d","e","f","g","h","i","j","k","l","m","n","o","p","q","r","s","t","u","v","w","x","y","z"]
    digits = ["0","1","2","3","4","5","6","7","8","9"]
    
    number_of_letters = random.randint(4,10)
    number_of_digits = 12 - number_of_letters
    
    chosenletters = random.sample(ascii_letters,number_of_letters)
    upper = ""
    
    for i in chosenletters:
        compare = random.randint(1,5)
        if compare <= 2:
            upper += i.upper()
        else:
            upper += i
    
    chosennumbers = random.sample(digits,number_of_digits)
    
    for i in chosennumbers:
        upper += i
    
    l = list(upper)
    random.shuffle(l)
    result = ''.join(l)
    print(result)
   
